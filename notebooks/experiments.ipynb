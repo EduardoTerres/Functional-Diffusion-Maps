{
  "cells": [
    {
      "cell_type": "markdown",
      "metadata": {},
      "source": [
        "\n# Functional Diffusion Maps\nIn this example, the use of the Functional Diffusion Map (FDM) technique is\nshown over different datasets.\nFirstly, an example of basic use of the technique is provided.\nLater, two examples of parameter tuning are presented, for embedding spaces\nof diferent dimensions.\nFinally, an application of the method for a real, non-synthetic, dataset is\nprovided.\n"
      ]
    },
    {
      "cell_type": "code",
      "execution_count": null,
      "metadata": {
        "collapsed": false
      },
      "outputs": [],
      "source": [
        "# Author: Eduardo Terr\u00e9s Caballero\n# License: MIT\n\nfrom itertools import product\n\nimport matplotlib.pyplot as plt\nimport numpy as np\nfrom matplotlib.colors import ListedColormap\nfrom sklearn import datasets\n\nfrom skfda.datasets import fetch_phoneme\nfrom skfda.misc.covariances import Gaussian\nfrom skfda.preprocessing.dim_reduction import FDM\nfrom skfda.representation import FDataGrid\n\nrandom_state = 0"
      ]
    },
    {
      "cell_type": "markdown",
      "metadata": {},
      "source": [
        "Some examples shown here are taken from the following article,\n:footcite:t:`barroso++_2023_fdm`.\n\n"
      ]
    },
    {
      "cell_type": "markdown",
      "metadata": {},
      "source": [
        "**MOONS DATASET EXAMPLE**\n\nFirstly, a basic example of execution is presented using a functional version\nof the moons dataset, a dataset consisting of two dimentional coordinates\nrepresenting the position of two different moons.\n\n"
      ]
    },
    {
      "cell_type": "code",
      "execution_count": null,
      "metadata": {
        "collapsed": false
      },
      "outputs": [],
      "source": [
        "n_samples, n_grid_pts = 100, 50\ndata_moons, y = datasets.make_moons(\n    n_samples=n_samples,\n    noise=0,\n    random_state=random_state,\n)\n\ncolors = [\"blue\", \"orange\"]\ncmap = ListedColormap(colors)\nplt.scatter(data_moons[:, 0], data_moons[:, 1], c=y, cmap=cmap)\nplt.title(\"Moons data\")\nplt.show()"
      ]
    },
    {
      "cell_type": "markdown",
      "metadata": {},
      "source": [
        "Using a two elements basis, the functional observation corresponding\nto a multivariate observation is obtained by treating the coordinates\nas coefficients that multiply the elements of the basis.\nIn other words, the multivariate vectors are interpreted as elements\nof the basis.\nBelow is the code to generate the synthetic moons functional data.\n\n"
      ]
    },
    {
      "cell_type": "code",
      "execution_count": null,
      "metadata": {
        "collapsed": false
      },
      "outputs": [],
      "source": [
        "grid = np.linspace(-np.pi, np.pi, n_grid_pts)\nbasis = np.array([np.sin(4 * grid), grid ** 2 + 2 * grid - 2])\nfd_moons = FDataGrid(\n    data_matrix=data_moons @ basis,\n    grid_points=grid,\n    dataset_name=\"Functional moons data\",\n    argument_names=(\"x\",),\n    coordinate_names=(\"f (x)\",),\n)\nfd_moons.plot(linewidth=0.5, group=y, group_colors=colors)\nplt.xlim((-np.pi, np.pi))\nplt.show()"
      ]
    },
    {
      "cell_type": "markdown",
      "metadata": {},
      "source": [
        "Once the functional data is available, it simply remains to choose\nthe value of the parameters of the model.\n\nThe FDM technique involves the use of a kernel operator, that acts\nas a measure of similarity for the data. In this case we will be using\nthe Gaussian kernel, with a length scale parameter of 0.25.\n\n"
      ]
    },
    {
      "cell_type": "code",
      "execution_count": null,
      "metadata": {
        "collapsed": false
      },
      "outputs": [],
      "source": [
        "fdm = FDM(\n    n_components=2,\n    kernel=Gaussian(length_scale=0.25),\n    alpha=0,\n    n_steps=1,\n)\nembedding = fdm.fit_transform(fd_moons)\n\nplt.scatter(embedding[:, 0], embedding[:, 1], c=y, cmap=cmap)\nplt.title(\"Diffusion coordinates for the functional moons data\")\nplt.show()"
      ]
    },
    {
      "cell_type": "markdown",
      "metadata": {},
      "source": [
        "As we can see, the functional diffusion map has correctly interpreted\nthe topological nature of the data, by successfully separating the\ncoordinates associated to both moons.\n\n"
      ]
    },
    {
      "cell_type": "markdown",
      "metadata": {},
      "source": [
        "**SPIRALS DATASET EXAMPLE**\n\nNext is an example of parameter tuning in the form of a grid\nsearch for a set of given values for the length_scale kernel parameter\nand the alpha parameter of the FDM method.\nWe have two spirals, which are initially entangled and thus\nindistinguishable to the machine.\n\nBelow is the code for the generation of the spiral data and its\nfunctional equivalent, following a similar dynamic as in the moons dataset.\n\n"
      ]
    },
    {
      "cell_type": "code",
      "execution_count": null,
      "metadata": {
        "collapsed": false
      },
      "outputs": [],
      "source": [
        "n_samples, n_grid_pts = 100, 50\nt = (np.pi / 4 + np.linspace(0, 4, n_samples)) * np.pi\ndx, dy = 10 * t * np.cos(t), 10 * t * np.sin(t)\ny = np.array([0] * n_samples + [1] * n_samples)\ndata_spirals = np.column_stack((\n    np.concatenate((dx, -dx)), np.concatenate((dy, -dy)),\n))\n\ncolors = [\"yellow\", \"purple\"]\ncmap = ListedColormap(colors)\nplt.scatter(data_spirals[:, 0], data_spirals[:, 1], c=y, cmap=cmap)\nplt.gca().set_aspect(\"equal\", adjustable=\"box\")\nplt.title(\"Spirals data\")\nplt.show()\n\n# Define functional data object\ngrid = np.linspace(-np.pi, np.pi, n_grid_pts)\nbasis = np.array([grid * np.cos(grid) / 3, grid * np.sin(grid) / 3])\nfd_spirals = FDataGrid(\n    data_matrix=data_spirals @ basis,\n    grid_points=grid,\n    dataset_name=\"Functional spirals data\",\n    argument_names=(\"x\",),\n    coordinate_names=(\"f (x)\",),\n)\nfd_spirals.plot(linewidth=0.5, group=y, group_colors=colors)\nplt.show()"
      ]
    },
    {
      "cell_type": "markdown",
      "metadata": {},
      "source": [
        "Once the functional data is ready, we will perform a grid search\nfor the following values of the parameters, as well as plot\nthe resulting embeddings for visual comparison.\n\n"
      ]
    },
    {
      "cell_type": "code",
      "execution_count": null,
      "metadata": {
        "collapsed": false
      },
      "outputs": [],
      "source": [
        "alpha_set = [0, 0.33, 0.66, 1]\nlength_scale_set = [2.5, 3, 4.5, 7, 10, 11, 15]\nparam_grid = product(alpha_set, length_scale_set)"
      ]
    },
    {
      "cell_type": "code",
      "execution_count": null,
      "metadata": {
        "collapsed": false
      },
      "outputs": [],
      "source": [
        "fig, axes = plt.subplots(\n    len(alpha_set), len(length_scale_set), figsize=(16, 8),\n)\n\nfor (alpha, length_scale), ax in zip(param_grid, axes.ravel()):\n    fdm = FDM(\n        n_components=2,\n        kernel=Gaussian(length_scale=length_scale),\n        alpha=alpha,\n        n_steps=1,\n    )\n    embedding = fdm.fit_transform(fd_spirals)\n\n    ax.scatter(embedding[:, 0], embedding[:, 1], c=y, cmap=cmap)\n    ax.set_xticklabels([])\n    ax.set_yticklabels([])\n\nfor ax, alpha in zip(axes[:, 0], alpha_set):\n    ax.set_ylabel(f\"$\\\\alpha$: {alpha}\", size=20, rotation=0, ha=\"right\")\n\nfor ax, length_scale in zip(axes[0], length_scale_set):\n    ax.set_title(f\"$len\\_sc$: {length_scale}\", size=20, va=\"bottom\")\n\nplt.show()"
      ]
    },
    {
      "cell_type": "markdown",
      "metadata": {},
      "source": [
        "The first thing to notice is that the parameter length scale exerts\na greater influence in the resulting embedding than the parameter alpha.\nIn this sense, the figures of any given column are more similar than those\nof any given row.\nThus, we shall set alpha equal to 0 because, by theory, it is\nequivalent to skipping a normalization step in the process\n\nMoreover, we can see that the optimal choice of the length scale parameter\nof the kernel is 4.5 because it visually presents the more clear separation\nbetween the trajectories of both spirals.\nHence, for a length scale of the kernel function of 4.5 the method is able\nto understand the local geometry of the spirals dataset.\nFor a small value of the kernel parameter (for example 1) contiguous points\nin the same arm of the spiral are not considered close because the kernel is\ntoo narrow, resulting in apparently random diffusion coordinates.\nFor a large value of the kernel parameter (for example 15) the kernel is wide\nenough so that points in contiguous spiral arms, which belong to different\ntrajectories, are considered similar. Hence the diffusion coordinates keep\nthese relations by mantaining both trajectories entagled.\nIn summary, for a value of length scale of 4.5 the kernel is wide enough so\nthat points in the same arm of a trajectory are considered similar,\nbut its not too wide so that points in contiguous arms of the spiral are\nalso considered similar.\n\n"
      ]
    },
    {
      "cell_type": "markdown",
      "metadata": {},
      "source": [
        "For a reliable comparison between embeddings, it is advisable to use\nthe same scale in all axis.\nTo ilustrate this idea, next is a re-execution for the row alpha\nequals 0.\n\n"
      ]
    },
    {
      "cell_type": "code",
      "execution_count": null,
      "metadata": {
        "collapsed": false
      },
      "outputs": [],
      "source": [
        "alpha_set = [0]\nlength_scale_set = [2.5, 3, 4.5, 7, 10, 11, 15]\nparam_grid = product(alpha_set, length_scale_set)\n\nfig, axes = plt.subplots(\n    len(alpha_set),\n    len(length_scale_set),\n    figsize=(16, 4),\n)\n\nfor (alpha, length_scale), ax in zip(param_grid, axes.ravel()):\n    fdm = FDM(\n        n_components=2,\n        kernel=Gaussian(length_scale=length_scale),\n        alpha=alpha,\n        n_steps=1,\n    )\n    embedding = fdm.fit_transform(fd_spirals)\n\n    ax.scatter(embedding[:, 0], embedding[:, 1], c=y, cmap=cmap)\n    ax.set_xlim((-0.4, 0.4))\n    ax.set_ylim((-0.4, 0.4))\n\naxes[0].set_ylabel(\n    f\"$\\\\alpha$: {alpha_set[0]}\", size=20, rotation=0, ha=\"right\",\n)\n\nfor ax, length_scale in zip(axes, length_scale_set):   \n    ax.set_title(f\"$len\\_sc$: {length_scale}\", size=20, va=\"bottom\")\n\nplt.show()"
      ]
    },
    {
      "cell_type": "markdown",
      "metadata": {},
      "source": [
        "**SWISS ROLL DATASET EXAMPLE**\n\nSo far, the above examples have been computed with a value of the\nn_components parameter of 2. This implies that the resulting\ndiffusion coordinate points belong to a two-dimensional space and thus we\ncan provide a graphical representation.\nThe aim of this new section is to explore further possibilities\nregarding n_components.\n\nWe will now apply the method to a more complex example, the\nSwiss roll dataset. This dataset consists of three dimensional points\nthat lay over a topological manifold shaped like a Swiss roll.\n\n"
      ]
    },
    {
      "cell_type": "code",
      "execution_count": null,
      "metadata": {
        "collapsed": false
      },
      "outputs": [],
      "source": [
        "n_samples, n_grid_pts = 500, 100\ndata_swiss, y = datasets.make_swiss_roll(\n    n_samples=n_samples,\n    noise=0,\n    random_state=random_state,\n)\nfig = plt.figure()\naxis = fig.add_subplot(111, projection=\"3d\")\naxis.set_title(\"Swiss roll data\")\naxis.scatter(data_swiss[:, 0], data_swiss[:, 1], data_swiss[:, 2], c=y)\nplt.show()"
      ]
    },
    {
      "cell_type": "markdown",
      "metadata": {},
      "source": [
        "Similarly to the previous examples, the functional data object is defined.\nIn this case a three element base will be used, since the multivariate data\npoints belong to a three-dimensional space.\nFor clarity purposes, only the first fifty functional observations are\nplotted.\n\n"
      ]
    },
    {
      "cell_type": "code",
      "execution_count": null,
      "metadata": {
        "collapsed": false
      },
      "outputs": [],
      "source": [
        "grid = np.linspace(-np.pi, np.pi, n_grid_pts)\nbasis = np.array([np.sin(4 * grid), np.cos(8 * grid), np.sin(12 * grid)])\ndata_matrix = np.array(data_swiss) @ basis\nfd_swiss = FDataGrid(\n    data_matrix=data_matrix,\n    grid_points=grid,\n    dataset_name=\"Functional Swiss roll data\",\n    argument_names=(\"x\",),\n    coordinate_names=(\"f (x)\",),\n)\nfd_swiss[:50].plot(linewidth=0.5, group=y[:50])\nplt.show()"
      ]
    },
    {
      "cell_type": "markdown",
      "metadata": {},
      "source": [
        "Now, the FDM method will be applied for different values of the\nparameters, again in the form of a grid search.\nNote that the diffusion coordinates will now consist of three components.\n\n"
      ]
    },
    {
      "cell_type": "code",
      "execution_count": null,
      "metadata": {
        "collapsed": false
      },
      "outputs": [],
      "source": [
        "alpha_set = [0, 0.5, 1]\nlength_scale_set = [1.5, 2.5, 4, 5]\nparam_grid = product(alpha_set, length_scale_set)"
      ]
    },
    {
      "cell_type": "code",
      "execution_count": null,
      "metadata": {
        "collapsed": false
      },
      "outputs": [],
      "source": [
        "fig, axes = plt.subplots(\n    len(alpha_set),\n    len(length_scale_set),\n    figsize=(16, 8),\n    subplot_kw={\"projection\": \"3d\"},\n)\n\nfor (alpha, length_scale), ax in zip(param_grid, axes.ravel()):   \n    fdm = FDM(\n        n_components=3,\n        kernel=Gaussian(length_scale=length_scale),\n        alpha=alpha,\n        n_steps=1,\n    )\n    embedding = fdm.fit_transform(fd_swiss)\n\n    ax.scatter(embedding[:, 0], embedding[:, 1], embedding[:, 2], c=y)\n    ax.set_xticklabels([])\n    ax.set_yticklabels([])\n    ax.set_zticklabels([])\n    ax.set_title(f\"$\\\\alpha$: {alpha}    $len\\_sc$: {length_scale}\")\n\nplt.show()"
      ]
    },
    {
      "cell_type": "markdown",
      "metadata": {},
      "source": [
        "Let's take a closer look at the resulting embedding for a value\nof length_scale and alpha equal to 2.5 and 0, respectively.\n\n"
      ]
    },
    {
      "cell_type": "code",
      "execution_count": null,
      "metadata": {
        "collapsed": false
      },
      "outputs": [],
      "source": [
        "alpha, length_scale = 0, 2.5\nfdm = FDM(\n    n_components=3,\n    kernel=Gaussian(length_scale=length_scale),\n    alpha=alpha,\n    n_steps=1,\n)\nembedding = fdm.fit_transform(fd_swiss)\n\nfig = plt.figure()\nax = fig.add_subplot(111, projection=\"3d\")\nax.scatter(embedding[:, 0], embedding[:, 1], embedding[:, 2], c=y)\nax.set_title(\n    \"Diffusion coordinates for \\n\"\n    f\"$\\\\alpha$: {alpha}    $len\\_sc$: {length_scale}\",\n)\nplt.show()"
      ]
    },
    {
      "cell_type": "markdown",
      "metadata": {},
      "source": [
        "The election of the optimal parameters is relative to the problem at hand.\nThe goal behind choosing values of length_scale equal to 2.5 and alpha equal\nto 0 is to obtain a unrolled transformation to the Swiss roll.\nNote that in the roll there are pairs of points whose euclidean\ndistance is small but whose shortest path contained in the\nmanifold is significantly larger, since it must complete an entire loop.\n\nIn this sense, the process happens to have taken into account the\nshortest path distance rather than the euclidean one. Thus, one may argue\nthat the topological nature of the data has been respected.\nThis new diffusion coordinates could be useful to gain more insights into\nthe initial data through further analysis.\n\n"
      ]
    },
    {
      "cell_type": "markdown",
      "metadata": {},
      "source": [
        "**REAL DATASET: PHONEME**\n\nThe aim of this section is to provide an example of application of\nthe FDM method to a non-synthetic dataset.\nBelow is an example of execution using the phoneme dataset,\na dataset consisting of the computed log-periodogram for five distinct\nphonemes coming from recorded male speech from the TIMIT database.\n\n"
      ]
    },
    {
      "cell_type": "code",
      "execution_count": null,
      "metadata": {
        "collapsed": false
      },
      "outputs": [],
      "source": [
        "n_samples = 300\ncolors = [\"C0\", \"C1\", \"C2\", \"C3\", \"C4\"]\ngroup_names = [\"aa\", \"ao\", \"dcl\", \"iy\", \"sh\"]\n\n# Fetch phoneme dataset\nfd_phoneme, y = fetch_phoneme(return_X_y=True)\nfd_phoneme, y = fd_phoneme[:n_samples], y[:n_samples]\nfd_phoneme.plot(\n    linewidth=0.7,\n    group=y,\n    group_colors=colors,\n    group_names=group_names,\n    legend=True,\n)\nplt.show()"
      ]
    },
    {
      "cell_type": "markdown",
      "metadata": {},
      "source": [
        "The resulting diffusion coordinates in three dimensions will be\nplotted, using different views to better understand the plot.\n\n"
      ]
    },
    {
      "cell_type": "code",
      "execution_count": null,
      "metadata": {
        "collapsed": false
      },
      "outputs": [],
      "source": [
        "cmap = ListedColormap(colors)\nalpha, length_scale = 1, 10\nfdm = FDM(\n    n_components=3,\n    kernel=Gaussian(length_scale=length_scale),\n    alpha=alpha,\n    n_steps=1,\n)\ndiffusion_coord = fdm.fit_transform(fd_phoneme)\n\n# Plot three views of the diffusion coordinates\nview_points = [(30, 70), (28, 0), (10, -120)]\n\nfig, axes = plt.subplots(\n    1, len(view_points), figsize=(18, 6), subplot_kw={\"projection\": \"3d\"},\n)\n\nfor view, ax in zip(view_points, axes.ravel()):\n    ax.scatter(\n        diffusion_coord[:, 0], diffusion_coord[:, 1], diffusion_coord[:, 2],\n        c=y, cmap=cmap,\n    )\n    ax.view_init(*view)\n    ax.set_title(f\"View {view}\", fontsize=26)\nplt.show()"
      ]
    },
    {
      "cell_type": "markdown",
      "metadata": {},
      "source": [
        "We can see that the diffusion coordinates for the different phonemes\nhave been clustered in the 3D space. This representation enables a\nmore clear separation of the data into the different phoneme groups.\nIn this way, the phonemes groups that are similar to each other, namely /aa/\nand /ao/ are closer in the space. In fact, these two groups partly overlap\n(orange and blue).\n\n"
      ]
    },
    {
      "cell_type": "markdown",
      "metadata": {},
      "source": [
        "**References:**\n    .. footbibliography::\n\n"
      ]
    }
  ],
  "metadata": {
    "kernelspec": {
      "display_name": "Python 3",
      "language": "python",
      "name": "python3"
    },
    "language_info": {
      "codemirror_mode": {
        "name": "ipython",
        "version": 3
      },
      "file_extension": ".py",
      "mimetype": "text/x-python",
      "name": "python",
      "nbconvert_exporter": "python",
      "pygments_lexer": "ipython3",
      "version": "3.11.5"
    }
  },
  "nbformat": 4,
  "nbformat_minor": 0
}